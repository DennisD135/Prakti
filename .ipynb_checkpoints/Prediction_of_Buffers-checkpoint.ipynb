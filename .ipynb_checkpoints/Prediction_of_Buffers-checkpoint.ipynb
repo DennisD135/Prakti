{
 "cells": [
  {
   "cell_type": "markdown",
   "id": "944b15fa",
   "metadata": {},
   "source": [
    "## 1. Understanding the Data"
   ]
  },
  {
   "cell_type": "markdown",
   "id": "e9abafa2",
   "metadata": {},
   "source": [
    "#### Import the Data, check for NaNs, Datatypes etc."
   ]
  },
  {
   "cell_type": "code",
   "execution_count": 1,
   "id": "f2011f59",
   "metadata": {},
   "outputs": [
    {
     "name": "stdout",
     "output_type": "stream",
     "text": [
      "Requirement already satisfied: pandas in /Users/dennisdurand/opt/anaconda3/lib/python3.8/site-packages (1.2.4)\n",
      "Requirement already satisfied: python-dateutil>=2.7.3 in /Users/dennisdurand/opt/anaconda3/lib/python3.8/site-packages (from pandas) (2.8.1)\n",
      "Requirement already satisfied: pytz>=2017.3 in /Users/dennisdurand/opt/anaconda3/lib/python3.8/site-packages (from pandas) (2021.1)\n",
      "Requirement already satisfied: numpy>=1.16.5 in /Users/dennisdurand/opt/anaconda3/lib/python3.8/site-packages (from pandas) (1.20.1)\n",
      "Requirement already satisfied: six>=1.5 in /Users/dennisdurand/opt/anaconda3/lib/python3.8/site-packages (from python-dateutil>=2.7.3->pandas) (1.15.0)\n",
      "Note: you may need to restart the kernel to use updated packages.\n"
     ]
    }
   ],
   "source": [
    "pip install pandas"
   ]
  },
  {
   "cell_type": "code",
   "execution_count": null,
   "id": "50bbbcac",
   "metadata": {},
   "outputs": [],
   "source": [
    "pip install numpy"
   ]
  },
  {
   "cell_type": "code",
   "execution_count": null,
   "id": "6fff3902",
   "metadata": {},
   "outputs": [],
   "source": [
    "pip instal sklearn"
   ]
  },
  {
   "cell_type": "code",
   "execution_count": 2,
   "id": "f48ebc3b",
   "metadata": {
    "scrolled": false
   },
   "outputs": [],
   "source": [
    "import pandas as pd\n",
    "import numpy as np\n",
    "# Import Data from Excel\n",
    "# Display Data"
   ]
  },
  {
   "cell_type": "code",
   "execution_count": 2,
   "id": "14f2237c",
   "metadata": {
    "scrolled": true
   },
   "outputs": [],
   "source": [
    "#check data types"
   ]
  },
  {
   "cell_type": "code",
   "execution_count": 4,
   "id": "7c6ccf2d",
   "metadata": {
    "scrolled": false
   },
   "outputs": [
    {
     "data": {
      "text/plain": [
       "ProductionDate             0\n",
       "RegistrationDate           0\n",
       "Country                    0\n",
       "CountryNr                  0\n",
       "BM                         0\n",
       "VehicleClassification      0\n",
       "Type                     261\n",
       "Code                       0\n",
       "status                     0\n",
       "Buffer                     0\n",
       "dtype: int64"
      ]
     },
     "execution_count": 4,
     "metadata": {},
     "output_type": "execute_result"
    }
   ],
   "source": [
    "# check for Nan "
   ]
  },
  {
   "cell_type": "code",
   "execution_count": 4,
   "id": "e2ecc4ca",
   "metadata": {},
   "outputs": [],
   "source": [
    " #drop Nan Rows"
   ]
  },
  {
   "cell_type": "markdown",
   "id": "3760b35d",
   "metadata": {},
   "source": [
    "### Insights:\n"
   ]
  },
  {
   "cell_type": "markdown",
   "id": "bb3e3cc9",
   "metadata": {},
   "source": [
    "## 2. Data Preparation"
   ]
  },
  {
   "cell_type": "markdown",
   "id": "11bdec4f",
   "metadata": {},
   "source": [
    "#### Split Code Column"
   ]
  },
  {
   "cell_type": "code",
   "execution_count": 2,
   "id": "05627c14",
   "metadata": {},
   "outputs": [],
   "source": [
    "#create dummies for code-features (1 - code is in vehicle / 0 - code is not in vehicle)\n",
    "#Split all code into features. If a code is availabe set to 1\n",
    "\n",
    "# first create a set of all codes (a set does not contain any dublicate) => split Code column by ','\n",
    "\n",
    "# Fill empty fields with a 0. If a code is not availabe in a vehicle you can set it to 0\n",
    "\n"
   ]
  },
  {
   "cell_type": "code",
   "execution_count": 11,
   "id": "9f9d6a9b",
   "metadata": {},
   "outputs": [],
   "source": [
    "#convert columns into integer\n"
   ]
  },
  {
   "cell_type": "markdown",
   "id": "8cc98cc1",
   "metadata": {},
   "source": [
    "#### Convert Dates to Datetime and Calculate Buffer"
   ]
  },
  {
   "cell_type": "code",
   "execution_count": 13,
   "id": "b86f1f77",
   "metadata": {},
   "outputs": [],
   "source": [
    "#Convert Dates to Datetime ( Year - month - day)\n"
   ]
  },
  {
   "cell_type": "code",
   "execution_count": 8,
   "id": "8082410a",
   "metadata": {
    "scrolled": true
   },
   "outputs": [],
   "source": [
    "# Calclulate Buffer as RegistrationDate - ProductionDate. Save Calculation as a new column \"Buffer\"\n"
   ]
  },
  {
   "cell_type": "markdown",
   "id": "e45c0b7e",
   "metadata": {},
   "source": [
    "#### Convert ProductionDate into Catagories"
   ]
  },
  {
   "cell_type": "code",
   "execution_count": 18,
   "id": "fb090beb",
   "metadata": {},
   "outputs": [],
   "source": [
    "# turn ProductionDate into Year, Month, Day"
   ]
  },
  {
   "cell_type": "markdown",
   "id": "adea1226",
   "metadata": {},
   "source": [
    "#### Create Dummies for catagorical features"
   ]
  },
  {
   "cell_type": "code",
   "execution_count": 19,
   "id": "7d063fed",
   "metadata": {},
   "outputs": [],
   "source": [
    "# convert catagorical into single features"
   ]
  },
  {
   "cell_type": "code",
   "execution_count": 5,
   "id": "47c83388",
   "metadata": {},
   "outputs": [],
   "source": [
    "df=pd.read_excel('TrainingsData.xlsx')\n",
    "df=df.astype({'RegistrationDate': 'Int32'})\n",
    "#drop the vehicles in training data\n",
    "df = df[(df.RegistrationDate.apply(lambda row: len(str(row))) != 6 )]\n",
    "codes_df = df.apply(lambda x: pd.Series(1, index = list(set(x['Code'].split(',')))), axis=1)\n",
    "# Fill empty fields with a 0. If a code is not availabe in a vehicle you can set it to 0\n",
    "codes_df.fillna(0, inplace=True)\n",
    "#Convert Dates to Datetime\n",
    "df.ProductionDate = pd.to_datetime(df.ProductionDate, format='%Y%m%d', errors='coerce')\n",
    "df.RegistrationDate = pd.to_datetime(df.RegistrationDate, format='%Y%m%d', errors='coerce')\n",
    "df['status']=~pd.isna(df.RegistrationDate) # Flag rows with a status\n",
    "# Calclulate Buffer as RegistrationDate - ProductionDate\n",
    "df.loc[df['status']==True,'Buffer'] = (df.RegistrationDate-df.ProductionDate).dt.days\n",
    "latest_registration = max(df.RegistrationDate)\n",
    "df.loc[df['status']==False,'Buffer'] = (latest_registration-df.ProductionDate).dt.days\n",
    "# delete negative Buffers\n",
    "df = df[df.Buffer>=0]\n",
    "# combine both dataframes \n",
    "df_final=pd.concat([df,codes_df], axis=1)\n",
    "df_final=df_final.drop(columns=['RegistrationDate','Code','']) # drop RegistrationDate and Code ( is splitted)\n",
    "df_final=df_final.astype({'status': 'boolean'}) \n",
    "# turn ProductionDate into Year, Month, Day\n",
    "df_final['Year']=df_final.ProductionDate.apply(lambda rows: str(rows.year))\n",
    "df_final['Month']=df_final.ProductionDate.apply(lambda rows: str(rows.month))\n",
    "df_final['Day']=df_final.ProductionDate.apply(lambda rows: str(rows.day))\n",
    "# convert catagorical into single features\n",
    "cat_col=df_final.select_dtypes(include=['object']).columns # Select all catagorical features\n",
    "df_final=pd.get_dummies(df_final,prefix=cat_col, prefix_sep='_', drop_first=True) # create dummies\n",
    "df_final.drop(columns=['ProductionDate'],inplace=True) # Drop ProductionDate features"
   ]
  },
  {
   "cell_type": "code",
   "execution_count": 6,
   "id": "825f4976",
   "metadata": {},
   "outputs": [
    {
     "data": {
      "text/html": [
       "<div>\n",
       "<style scoped>\n",
       "    .dataframe tbody tr th:only-of-type {\n",
       "        vertical-align: middle;\n",
       "    }\n",
       "\n",
       "    .dataframe tbody tr th {\n",
       "        vertical-align: top;\n",
       "    }\n",
       "\n",
       "    .dataframe thead th {\n",
       "        text-align: right;\n",
       "    }\n",
       "</style>\n",
       "<table border=\"1\" class=\"dataframe\">\n",
       "  <thead>\n",
       "    <tr style=\"text-align: right;\">\n",
       "      <th></th>\n",
       "      <th>CountryNr</th>\n",
       "      <th>status</th>\n",
       "      <th>Buffer</th>\n",
       "      <th>A1A</th>\n",
       "      <th>A1C</th>\n",
       "      <th>A1M</th>\n",
       "      <th>A1T</th>\n",
       "      <th>A40</th>\n",
       "      <th>A49</th>\n",
       "      <th>A4M</th>\n",
       "      <th>...</th>\n",
       "      <th>Day_3</th>\n",
       "      <th>Day_30</th>\n",
       "      <th>Day_31</th>\n",
       "      <th>Day_4</th>\n",
       "      <th>Day_5</th>\n",
       "      <th>Day_6</th>\n",
       "      <th>Day_7</th>\n",
       "      <th>Day_8</th>\n",
       "      <th>Day_9</th>\n",
       "      <th>Day_nan</th>\n",
       "    </tr>\n",
       "  </thead>\n",
       "  <tbody>\n",
       "    <tr>\n",
       "      <th>0</th>\n",
       "      <td>196.0</td>\n",
       "      <td>True</td>\n",
       "      <td>337.0</td>\n",
       "      <td>0.0</td>\n",
       "      <td>0.0</td>\n",
       "      <td>1.0</td>\n",
       "      <td>0.0</td>\n",
       "      <td>0.0</td>\n",
       "      <td>0.0</td>\n",
       "      <td>0.0</td>\n",
       "      <td>...</td>\n",
       "      <td>0</td>\n",
       "      <td>0</td>\n",
       "      <td>0</td>\n",
       "      <td>0</td>\n",
       "      <td>0</td>\n",
       "      <td>0</td>\n",
       "      <td>0</td>\n",
       "      <td>0</td>\n",
       "      <td>0</td>\n",
       "      <td>0</td>\n",
       "    </tr>\n",
       "    <tr>\n",
       "      <th>1</th>\n",
       "      <td>204.0</td>\n",
       "      <td>True</td>\n",
       "      <td>211.0</td>\n",
       "      <td>0.0</td>\n",
       "      <td>0.0</td>\n",
       "      <td>0.0</td>\n",
       "      <td>0.0</td>\n",
       "      <td>0.0</td>\n",
       "      <td>0.0</td>\n",
       "      <td>0.0</td>\n",
       "      <td>...</td>\n",
       "      <td>0</td>\n",
       "      <td>0</td>\n",
       "      <td>0</td>\n",
       "      <td>0</td>\n",
       "      <td>0</td>\n",
       "      <td>0</td>\n",
       "      <td>0</td>\n",
       "      <td>0</td>\n",
       "      <td>0</td>\n",
       "      <td>0</td>\n",
       "    </tr>\n",
       "    <tr>\n",
       "      <th>2</th>\n",
       "      <td>513.0</td>\n",
       "      <td>True</td>\n",
       "      <td>58.0</td>\n",
       "      <td>0.0</td>\n",
       "      <td>0.0</td>\n",
       "      <td>1.0</td>\n",
       "      <td>0.0</td>\n",
       "      <td>0.0</td>\n",
       "      <td>0.0</td>\n",
       "      <td>0.0</td>\n",
       "      <td>...</td>\n",
       "      <td>0</td>\n",
       "      <td>0</td>\n",
       "      <td>0</td>\n",
       "      <td>0</td>\n",
       "      <td>0</td>\n",
       "      <td>0</td>\n",
       "      <td>0</td>\n",
       "      <td>0</td>\n",
       "      <td>0</td>\n",
       "      <td>0</td>\n",
       "    </tr>\n",
       "    <tr>\n",
       "      <th>3</th>\n",
       "      <td>555.0</td>\n",
       "      <td>True</td>\n",
       "      <td>5.0</td>\n",
       "      <td>0.0</td>\n",
       "      <td>0.0</td>\n",
       "      <td>1.0</td>\n",
       "      <td>0.0</td>\n",
       "      <td>0.0</td>\n",
       "      <td>0.0</td>\n",
       "      <td>0.0</td>\n",
       "      <td>...</td>\n",
       "      <td>0</td>\n",
       "      <td>0</td>\n",
       "      <td>0</td>\n",
       "      <td>1</td>\n",
       "      <td>0</td>\n",
       "      <td>0</td>\n",
       "      <td>0</td>\n",
       "      <td>0</td>\n",
       "      <td>0</td>\n",
       "      <td>0</td>\n",
       "    </tr>\n",
       "    <tr>\n",
       "      <th>4</th>\n",
       "      <td>236.0</td>\n",
       "      <td>True</td>\n",
       "      <td>169.0</td>\n",
       "      <td>0.0</td>\n",
       "      <td>0.0</td>\n",
       "      <td>1.0</td>\n",
       "      <td>0.0</td>\n",
       "      <td>0.0</td>\n",
       "      <td>0.0</td>\n",
       "      <td>0.0</td>\n",
       "      <td>...</td>\n",
       "      <td>0</td>\n",
       "      <td>0</td>\n",
       "      <td>0</td>\n",
       "      <td>0</td>\n",
       "      <td>0</td>\n",
       "      <td>0</td>\n",
       "      <td>0</td>\n",
       "      <td>0</td>\n",
       "      <td>0</td>\n",
       "      <td>0</td>\n",
       "    </tr>\n",
       "    <tr>\n",
       "      <th>...</th>\n",
       "      <td>...</td>\n",
       "      <td>...</td>\n",
       "      <td>...</td>\n",
       "      <td>...</td>\n",
       "      <td>...</td>\n",
       "      <td>...</td>\n",
       "      <td>...</td>\n",
       "      <td>...</td>\n",
       "      <td>...</td>\n",
       "      <td>...</td>\n",
       "      <td>...</td>\n",
       "      <td>...</td>\n",
       "      <td>...</td>\n",
       "      <td>...</td>\n",
       "      <td>...</td>\n",
       "      <td>...</td>\n",
       "      <td>...</td>\n",
       "      <td>...</td>\n",
       "      <td>...</td>\n",
       "      <td>...</td>\n",
       "      <td>...</td>\n",
       "    </tr>\n",
       "    <tr>\n",
       "      <th>99984</th>\n",
       "      <td>217.0</td>\n",
       "      <td>True</td>\n",
       "      <td>118.0</td>\n",
       "      <td>0.0</td>\n",
       "      <td>0.0</td>\n",
       "      <td>0.0</td>\n",
       "      <td>0.0</td>\n",
       "      <td>0.0</td>\n",
       "      <td>0.0</td>\n",
       "      <td>0.0</td>\n",
       "      <td>...</td>\n",
       "      <td>0</td>\n",
       "      <td>0</td>\n",
       "      <td>0</td>\n",
       "      <td>0</td>\n",
       "      <td>0</td>\n",
       "      <td>0</td>\n",
       "      <td>0</td>\n",
       "      <td>0</td>\n",
       "      <td>0</td>\n",
       "      <td>0</td>\n",
       "    </tr>\n",
       "    <tr>\n",
       "      <th>99985</th>\n",
       "      <td>203.0</td>\n",
       "      <td>True</td>\n",
       "      <td>33.0</td>\n",
       "      <td>0.0</td>\n",
       "      <td>0.0</td>\n",
       "      <td>1.0</td>\n",
       "      <td>0.0</td>\n",
       "      <td>0.0</td>\n",
       "      <td>0.0</td>\n",
       "      <td>0.0</td>\n",
       "      <td>...</td>\n",
       "      <td>0</td>\n",
       "      <td>0</td>\n",
       "      <td>0</td>\n",
       "      <td>0</td>\n",
       "      <td>0</td>\n",
       "      <td>0</td>\n",
       "      <td>0</td>\n",
       "      <td>0</td>\n",
       "      <td>0</td>\n",
       "      <td>0</td>\n",
       "    </tr>\n",
       "    <tr>\n",
       "      <th>99986</th>\n",
       "      <td>214.0</td>\n",
       "      <td>True</td>\n",
       "      <td>76.0</td>\n",
       "      <td>0.0</td>\n",
       "      <td>0.0</td>\n",
       "      <td>0.0</td>\n",
       "      <td>0.0</td>\n",
       "      <td>0.0</td>\n",
       "      <td>0.0</td>\n",
       "      <td>0.0</td>\n",
       "      <td>...</td>\n",
       "      <td>0</td>\n",
       "      <td>0</td>\n",
       "      <td>0</td>\n",
       "      <td>1</td>\n",
       "      <td>0</td>\n",
       "      <td>0</td>\n",
       "      <td>0</td>\n",
       "      <td>0</td>\n",
       "      <td>0</td>\n",
       "      <td>0</td>\n",
       "    </tr>\n",
       "    <tr>\n",
       "      <th>99987</th>\n",
       "      <td>224.0</td>\n",
       "      <td>True</td>\n",
       "      <td>20.0</td>\n",
       "      <td>0.0</td>\n",
       "      <td>0.0</td>\n",
       "      <td>1.0</td>\n",
       "      <td>0.0</td>\n",
       "      <td>0.0</td>\n",
       "      <td>0.0</td>\n",
       "      <td>0.0</td>\n",
       "      <td>...</td>\n",
       "      <td>0</td>\n",
       "      <td>0</td>\n",
       "      <td>0</td>\n",
       "      <td>0</td>\n",
       "      <td>0</td>\n",
       "      <td>0</td>\n",
       "      <td>0</td>\n",
       "      <td>1</td>\n",
       "      <td>0</td>\n",
       "      <td>0</td>\n",
       "    </tr>\n",
       "    <tr>\n",
       "      <th>99988</th>\n",
       "      <td>559.0</td>\n",
       "      <td>True</td>\n",
       "      <td>8.0</td>\n",
       "      <td>0.0</td>\n",
       "      <td>0.0</td>\n",
       "      <td>0.0</td>\n",
       "      <td>0.0</td>\n",
       "      <td>0.0</td>\n",
       "      <td>0.0</td>\n",
       "      <td>0.0</td>\n",
       "      <td>...</td>\n",
       "      <td>0</td>\n",
       "      <td>0</td>\n",
       "      <td>0</td>\n",
       "      <td>0</td>\n",
       "      <td>0</td>\n",
       "      <td>0</td>\n",
       "      <td>0</td>\n",
       "      <td>0</td>\n",
       "      <td>0</td>\n",
       "      <td>0</td>\n",
       "    </tr>\n",
       "  </tbody>\n",
       "</table>\n",
       "<p>95231 rows × 1227 columns</p>\n",
       "</div>"
      ],
      "text/plain": [
       "       CountryNr  status  Buffer  A1A  A1C  A1M  A1T  A40  A49  A4M  ...  \\\n",
       "0          196.0    True   337.0  0.0  0.0  1.0  0.0  0.0  0.0  0.0  ...   \n",
       "1          204.0    True   211.0  0.0  0.0  0.0  0.0  0.0  0.0  0.0  ...   \n",
       "2          513.0    True    58.0  0.0  0.0  1.0  0.0  0.0  0.0  0.0  ...   \n",
       "3          555.0    True     5.0  0.0  0.0  1.0  0.0  0.0  0.0  0.0  ...   \n",
       "4          236.0    True   169.0  0.0  0.0  1.0  0.0  0.0  0.0  0.0  ...   \n",
       "...          ...     ...     ...  ...  ...  ...  ...  ...  ...  ...  ...   \n",
       "99984      217.0    True   118.0  0.0  0.0  0.0  0.0  0.0  0.0  0.0  ...   \n",
       "99985      203.0    True    33.0  0.0  0.0  1.0  0.0  0.0  0.0  0.0  ...   \n",
       "99986      214.0    True    76.0  0.0  0.0  0.0  0.0  0.0  0.0  0.0  ...   \n",
       "99987      224.0    True    20.0  0.0  0.0  1.0  0.0  0.0  0.0  0.0  ...   \n",
       "99988      559.0    True     8.0  0.0  0.0  0.0  0.0  0.0  0.0  0.0  ...   \n",
       "\n",
       "       Day_3  Day_30  Day_31  Day_4  Day_5  Day_6  Day_7  Day_8  Day_9  \\\n",
       "0          0       0       0      0      0      0      0      0      0   \n",
       "1          0       0       0      0      0      0      0      0      0   \n",
       "2          0       0       0      0      0      0      0      0      0   \n",
       "3          0       0       0      1      0      0      0      0      0   \n",
       "4          0       0       0      0      0      0      0      0      0   \n",
       "...      ...     ...     ...    ...    ...    ...    ...    ...    ...   \n",
       "99984      0       0       0      0      0      0      0      0      0   \n",
       "99985      0       0       0      0      0      0      0      0      0   \n",
       "99986      0       0       0      1      0      0      0      0      0   \n",
       "99987      0       0       0      0      0      0      0      1      0   \n",
       "99988      0       0       0      0      0      0      0      0      0   \n",
       "\n",
       "       Day_nan  \n",
       "0            0  \n",
       "1            0  \n",
       "2            0  \n",
       "3            0  \n",
       "4            0  \n",
       "...        ...  \n",
       "99984        0  \n",
       "99985        0  \n",
       "99986        0  \n",
       "99987        0  \n",
       "99988        0  \n",
       "\n",
       "[95231 rows x 1227 columns]"
      ]
     },
     "execution_count": 6,
     "metadata": {},
     "output_type": "execute_result"
    }
   ],
   "source": [
    "df_final"
   ]
  },
  {
   "cell_type": "markdown",
   "id": "450cd532",
   "metadata": {},
   "source": [
    "#### Create finale df"
   ]
  },
  {
   "cell_type": "code",
   "execution_count": 20,
   "id": "39bf08a2",
   "metadata": {},
   "outputs": [],
   "source": [
    "# Prepare X,y\n"
   ]
  },
  {
   "cell_type": "markdown",
   "id": "efa2d663",
   "metadata": {},
   "source": [
    "## Modeling"
   ]
  },
  {
   "cell_type": "code",
   "execution_count": 113,
   "id": "2e64c7bc",
   "metadata": {},
   "outputs": [],
   "source": [
    "from sklearn.ensemble import RandomForestRegressor\n",
    "from sklearn.model_selection import train_test_split\n",
    "from sklearn.metrics import r2_score, mean_absolute_error\n",
    "\n",
    "#Split Data\n"
   ]
  },
  {
   "cell_type": "code",
   "execution_count": 114,
   "id": "74bcafbd",
   "metadata": {
    "scrolled": true
   },
   "outputs": [],
   "source": [
    "#Instance Model RandomForestRegressor n_estimators=100,max_depth=30,random_state=0\n",
    "\n",
    "#Predict\n",
    "\n",
    "#Score\n"
   ]
  },
  {
   "cell_type": "markdown",
   "id": "88dc99f1",
   "metadata": {},
   "source": [
    "## 5. Evaluation"
   ]
  },
  {
   "cell_type": "code",
   "execution_count": 115,
   "id": "c6518e1a",
   "metadata": {},
   "outputs": [
    {
     "name": "stdout",
     "output_type": "stream",
     "text": [
      "The rsquared on the training data was 0.8613265602720486.  The rsquared on the test data was 0.5848184866847197.\n"
     ]
    }
   ],
   "source": [
    "#Print training and testing score\n",
    "print(\"The rsquared on the training data was {}.  The rsquared on the test data was {}.\".format(train_score, test_score))"
   ]
  },
  {
   "cell_type": "code",
   "execution_count": 118,
   "id": "46bd94b4",
   "metadata": {
    "scrolled": true
   },
   "outputs": [
    {
     "name": "stdout",
     "output_type": "stream",
     "text": [
      "The avarage buffer on the training data was 91.32.  The avarage buffer on the test data was 92.59.\n"
     ]
    }
   ],
   "source": [
    "avarage_buffer_test=y_test_preds.mean()\n",
    "avarage_buffer_train=y_train_preds.mean()\n",
    "print(\"The avarage buffer on the training data was {}.  The avarage buffer on the test data was {}.\".format(round(avarage_buffer_train,2), round(avarage_buffer_test,2)))"
   ]
  },
  {
   "cell_type": "markdown",
   "id": "d189196d",
   "metadata": {},
   "source": [
    "### Question Nr. 5: How much better is an ML algorithm compared to expert prediction?"
   ]
  },
  {
   "cell_type": "code",
   "execution_count": 120,
   "id": "ff920a3b",
   "metadata": {},
   "outputs": [
    {
     "name": "stdout",
     "output_type": "stream",
     "text": [
      "The MAE on the training data was 22.670151107527765.  The MAE on the test data was 38.24912806286127.\n"
     ]
    }
   ],
   "source": [
    "#Print training and testing score\n",
    "print(\"The MAE on the training data was {}.  The MAE on the test data was {}.\".format(train_mae, test_mae))"
   ]
  },
  {
   "cell_type": "markdown",
   "id": "531fd128",
   "metadata": {},
   "source": [
    "### => Compared to the 70.19 MAE on the expert excel sheet the MAE was on the test data 39.25. That is a 45% better prediction! "
   ]
  }
 ],
 "metadata": {
  "kernelspec": {
   "display_name": "Python 3",
   "language": "python",
   "name": "python3"
  },
  "language_info": {
   "codemirror_mode": {
    "name": "ipython",
    "version": 3
   },
   "file_extension": ".py",
   "mimetype": "text/x-python",
   "name": "python",
   "nbconvert_exporter": "python",
   "pygments_lexer": "ipython3",
   "version": "3.8.8"
  }
 },
 "nbformat": 4,
 "nbformat_minor": 5
}
